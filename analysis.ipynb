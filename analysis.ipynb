{
 "cells": [
  {
   "cell_type": "code",
   "execution_count": 138,
   "metadata": {},
   "outputs": [],
   "source": [
    "from collections import defaultdict, Counter\n",
    "import itertools\n",
    "import json\n",
    "\n",
    "import matplotlib.pyplot as plt\n",
    "import numpy as np\n",
    "import pandas as pd\n",
    "%matplotlib inline"
   ]
  },
  {
   "cell_type": "code",
   "execution_count": 2,
   "metadata": {},
   "outputs": [
    {
     "data": {
      "text/html": [
       "<div>\n",
       "<style scoped>\n",
       "    .dataframe tbody tr th:only-of-type {\n",
       "        vertical-align: middle;\n",
       "    }\n",
       "\n",
       "    .dataframe tbody tr th {\n",
       "        vertical-align: top;\n",
       "    }\n",
       "\n",
       "    .dataframe thead th {\n",
       "        text-align: right;\n",
       "    }\n",
       "</style>\n",
       "<table border=\"1\" class=\"dataframe\">\n",
       "  <thead>\n",
       "    <tr style=\"text-align: right;\">\n",
       "      <th></th>\n",
       "      <th>user_id</th>\n",
       "      <th>trial_id</th>\n",
       "      <th>time</th>\n",
       "      <th>trial_data</th>\n",
       "    </tr>\n",
       "  </thead>\n",
       "  <tbody>\n",
       "    <tr>\n",
       "      <th>0</th>\n",
       "      <td>debugK6FBJC:debugJF0CZ9</td>\n",
       "      <td>0</td>\n",
       "      <td>1520453837246</td>\n",
       "      <td>{\"rt\": 1513, \"trial_type\": \"instructions\", \"vi...</td>\n",
       "    </tr>\n",
       "    <tr>\n",
       "      <th>1</th>\n",
       "      <td>debugK6FBJC:debugJF0CZ9</td>\n",
       "      <td>1</td>\n",
       "      <td>1520453840309</td>\n",
       "      <td>{\"rt\": 3060, \"trial_type\": \"survey-text\", \"res...</td>\n",
       "    </tr>\n",
       "    <tr>\n",
       "      <th>2</th>\n",
       "      <td>debugK6FBJC:debugJF0CZ9</td>\n",
       "      <td>2</td>\n",
       "      <td>1520453844577</td>\n",
       "      <td>{\"rt\": 4262, \"trial_type\": \"survey-multi-choic...</td>\n",
       "    </tr>\n",
       "    <tr>\n",
       "      <th>3</th>\n",
       "      <td>debugK6FBJC:debugJF0CZ9</td>\n",
       "      <td>3</td>\n",
       "      <td>1520453845580</td>\n",
       "      <td>{\"rt\": null, \"trial_type\": \"html-keyboard-resp...</td>\n",
       "    </tr>\n",
       "    <tr>\n",
       "      <th>4</th>\n",
       "      <td>debugK6FBJC:debugJF0CZ9</td>\n",
       "      <td>4</td>\n",
       "      <td>1520453848151</td>\n",
       "      <td>{\"rt\": 2568, \"trial_type\": \"scene-choice\", \"pr...</td>\n",
       "    </tr>\n",
       "  </tbody>\n",
       "</table>\n",
       "</div>"
      ],
      "text/plain": [
       "                   user_id  trial_id           time  \\\n",
       "0  debugK6FBJC:debugJF0CZ9         0  1520453837246   \n",
       "1  debugK6FBJC:debugJF0CZ9         1  1520453840309   \n",
       "2  debugK6FBJC:debugJF0CZ9         2  1520453844577   \n",
       "3  debugK6FBJC:debugJF0CZ9         3  1520453845580   \n",
       "4  debugK6FBJC:debugJF0CZ9         4  1520453848151   \n",
       "\n",
       "                                          trial_data  \n",
       "0  {\"rt\": 1513, \"trial_type\": \"instructions\", \"vi...  \n",
       "1  {\"rt\": 3060, \"trial_type\": \"survey-text\", \"res...  \n",
       "2  {\"rt\": 4262, \"trial_type\": \"survey-multi-choic...  \n",
       "3  {\"rt\": null, \"trial_type\": \"html-keyboard-resp...  \n",
       "4  {\"rt\": 2568, \"trial_type\": \"scene-choice\", \"pr...  "
      ]
     },
     "execution_count": 2,
     "metadata": {},
     "output_type": "execute_result"
    }
   ],
   "source": [
    "TRIALS_CSV = \"psiturk/trialdata.csv\"\n",
    "trials = pd.read_csv(TRIALS_CSV, header=None, names=[\"user_id\", \"trial_id\", \"time\", \"trial_data\"])\n",
    "trials.head()"
   ]
  },
  {
   "cell_type": "markdown",
   "metadata": {},
   "source": [
    "## Demographics"
   ]
  },
  {
   "cell_type": "code",
   "execution_count": 3,
   "metadata": {},
   "outputs": [
    {
     "data": {
      "text/html": [
       "<div>\n",
       "<style scoped>\n",
       "    .dataframe tbody tr th:only-of-type {\n",
       "        vertical-align: middle;\n",
       "    }\n",
       "\n",
       "    .dataframe tbody tr th {\n",
       "        vertical-align: top;\n",
       "    }\n",
       "\n",
       "    .dataframe thead th {\n",
       "        text-align: right;\n",
       "    }\n",
       "</style>\n",
       "<table border=\"1\" class=\"dataframe\">\n",
       "  <thead>\n",
       "    <tr style=\"text-align: right;\">\n",
       "      <th></th>\n",
       "      <th>age</th>\n",
       "      <th>sex</th>\n",
       "      <th>education</th>\n",
       "      <th>native</th>\n",
       "      <th>comments</th>\n",
       "    </tr>\n",
       "  </thead>\n",
       "  <tbody>\n",
       "    <tr>\n",
       "      <th>debugFAZXUC:debugELFLAW</th>\n",
       "      <td>25</td>\n",
       "      <td>Female</td>\n",
       "      <td>High school/GED</td>\n",
       "      <td>Yes</td>\n",
       "      <td>Hi</td>\n",
       "    </tr>\n",
       "    <tr>\n",
       "      <th>debugK6FBJC:debugJF0CZ9</th>\n",
       "      <td>18</td>\n",
       "      <td>Male</td>\n",
       "      <td>Bachelor's degree</td>\n",
       "      <td>Yes</td>\n",
       "      <td></td>\n",
       "    </tr>\n",
       "  </tbody>\n",
       "</table>\n",
       "</div>"
      ],
      "text/plain": [
       "                         age     sex          education native comments\n",
       "debugFAZXUC:debugELFLAW   25  Female    High school/GED    Yes       Hi\n",
       "debugK6FBJC:debugJF0CZ9   18    Male  Bachelor's degree    Yes         "
      ]
     },
     "execution_count": 3,
     "metadata": {},
     "output_type": "execute_result"
    }
   ],
   "source": [
    "users = defaultdict(dict)\n",
    "for i, trial in trials.iterrows():\n",
    "    tdata = json.loads(trial.trial_data)\n",
    "    try:\n",
    "        responses = json.loads(tdata[\"responses\"])\n",
    "    except KeyError:\n",
    "        continue\n",
    "        \n",
    "    user_data = users[trial.user_id]\n",
    "    if tdata[\"trial_type\"] == \"survey-text\":\n",
    "        if tdata[\"trial_index\"] == 1:\n",
    "            user_data[\"age\"] = int(responses[\"Q0\"])\n",
    "        else:\n",
    "            user_data[\"comments\"] = responses[\"Q0\"]\n",
    "    elif tdata[\"trial_type\"] == \"survey-multi-choice\":\n",
    "        user_data[\"sex\"] = responses[\"Q0\"]\n",
    "        user_data[\"education\"] = responses[\"Q1\"]\n",
    "        user_data[\"native\"] = responses[\"Q2\"]\n",
    "        \n",
    "users = pd.DataFrame.from_dict(users, \"index\")\n",
    "users.head()"
   ]
  },
  {
   "cell_type": "code",
   "execution_count": 4,
   "metadata": {},
   "outputs": [
    {
     "data": {
      "text/plain": [
       "<matplotlib.axes._subplots.AxesSubplot at 0x7f3e8ee468d0>"
      ]
     },
     "execution_count": 4,
     "metadata": {},
     "output_type": "execute_result"
    },
    {
     "data": {
      "image/png": "[encoded data removed]",
      "text/plain": [
       "<matplotlib.figure.Figure at 0x7f3eb0826080>"
      ]
     },
     "metadata": {},
     "output_type": "display_data"
    }
   ],
   "source": [
    "users.age.plot.hist(title=\"Age\")"
   ]
  },
  {
   "cell_type": "code",
   "execution_count": 5,
   "metadata": {},
   "outputs": [
    {
     "data": {
      "text/plain": [
       "<matplotlib.axes._subplots.AxesSubplot at 0x7f3e86fa7780>"
      ]
     },
     "execution_count": 5,
     "metadata": {},
     "output_type": "execute_result"
    },
    {
     "data": {
      "image/png": "[encoded data removed]",
      "text/plain": [
       "<matplotlib.figure.Figure at 0x7f3e8ee00898>"
      ]
     },
     "metadata": {},
     "output_type": "display_data"
    }
   ],
   "source": [
    "users.sex.value_counts().plot.bar(title=\"Sex\")"
   ]
  },
  {
   "cell_type": "code",
   "execution_count": 6,
   "metadata": {},
   "outputs": [
    {
     "data": {
      "text/plain": [
       "<matplotlib.axes._subplots.AxesSubplot at 0x7f3e86ee3668>"
      ]
     },
     "execution_count": 6,
     "metadata": {},
     "output_type": "execute_result"
    },
    {
     "data": {
      "image/png": "[encoded data removed]",
      "text/plain": [
       "<matplotlib.figure.Figure at 0x7f3e86eb5278>"
      ]
     },
     "metadata": {},
     "output_type": "display_data"
    }
   ],
   "source": [
    "users.education.value_counts().plot.bar(title=\"Education\")"
   ]
  },
  {
   "cell_type": "code",
   "execution_count": 7,
   "metadata": {},
   "outputs": [
    {
     "data": {
      "text/plain": [
       "['Hi', '']"
      ]
     },
     "execution_count": 7,
     "metadata": {},
     "output_type": "execute_result"
    }
   ],
   "source": [
    "list(users.comments.unique())"
   ]
  },
  {
   "cell_type": "markdown",
   "metadata": {},
   "source": [
    "## Data prep"
   ]
  },
  {
   "cell_type": "code",
   "execution_count": 45,
   "metadata": {},
   "outputs": [
    {
     "data": {
      "text/plain": [
       "[(4,\n",
       "  {'choice': 'C',\n",
       "   'frame': 'mancar-02',\n",
       "   'frame_path': 'mancar-02.png',\n",
       "   'internal_node_id': '0.0-4.0',\n",
       "   'labeled_frame_path': 'mancar-02.08.png',\n",
       "   'prompt': \"I'm looking for my friend. He is the one standing in front of the car. Which one is my friend?\",\n",
       "   'prompt_type': 'pick',\n",
       "   'referents': {'A': ['wall', None],\n",
       "    'B': ['motorhaube', None],\n",
       "    'C': ['uomo2', 'intrinsic'],\n",
       "    'D': ['uomo', 'relative']},\n",
       "   'relation': 'in front of',\n",
       "   'rt': 2568,\n",
       "   'scene': 'mancar',\n",
       "   'time_elapsed': 12420,\n",
       "   'trial_index': 4,\n",
       "   'trial_type': 'scene-choice'}),\n",
       " (6,\n",
       "  {'choice': 'A',\n",
       "   'frame': 'mantv-02',\n",
       "   'frame_path': 'mantv-02.png',\n",
       "   'internal_node_id': '0.0-6.0',\n",
       "   'labeled_frame_path': 'mantv-02.01.png',\n",
       "   'prompt': \"I'm looking for my friend. He is the one who is standing near the television. Which is my friend?\",\n",
       "   'prompt_type': 'pick',\n",
       "   'referents': {'A': ['uomo2', None],\n",
       "    'B': ['uomo', 'relative'],\n",
       "    'C': ['Hat Lamp.jpg', None]},\n",
       "   'relation': 'near',\n",
       "   'rt': 2179,\n",
       "   'scene': 'mantv',\n",
       "   'time_elapsed': 15600,\n",
       "   'trial_index': 6,\n",
       "   'trial_type': 'scene-choice'}),\n",
       " (8,\n",
       "  {'choice': 1,\n",
       "   'frame': 'mancar-01',\n",
       "   'frame_path': 'mancar-01.png',\n",
       "   'internal_node_id': '0.0-8.0',\n",
       "   'labeled_frame_path': 'mancar-01.23.png',\n",
       "   'prompt': 'How many people are standing in front of the car?',\n",
       "   'prompt_type': 'count',\n",
       "   'referents': {'A': ['uomo', 'functional'],\n",
       "    'B': ['motorhaube', None],\n",
       "    'C': ['wall', None],\n",
       "    'D': ['uomo2', 'relative']},\n",
       "   'relation': 'in front of',\n",
       "   'rt': 1974,\n",
       "   'scene': 'mancar',\n",
       "   'time_elapsed': 18578,\n",
       "   'trial_index': 8,\n",
       "   'trial_type': 'scene-choice'}),\n",
       " (10,\n",
       "  {'choice': 'A',\n",
       "   'frame': 'mantv-05',\n",
       "   'frame_path': 'mantv-05.png',\n",
       "   'internal_node_id': '0.0-10.0',\n",
       "   'labeled_frame_path': 'mantv-05.00.png',\n",
       "   'prompt': \"I'm looking for my friend. He is the one who is standing near the television. Which is my friend?\",\n",
       "   'prompt_type': 'pick',\n",
       "   'referents': {'A': ['uomo2', None], 'B': ['Hat Lamp.jpg', None]},\n",
       "   'relation': 'near',\n",
       "   'rt': 4391,\n",
       "   'scene': 'mantv',\n",
       "   'time_elapsed': 23972,\n",
       "   'trial_index': 10,\n",
       "   'trial_type': 'scene-choice'}),\n",
       " (12,\n",
       "  {'choice': 'C',\n",
       "   'frame': 'mancar-00',\n",
       "   'frame_path': 'mancar-00.png',\n",
       "   'internal_node_id': '0.0-12.0',\n",
       "   'labeled_frame_path': 'mancar-00.14.png',\n",
       "   'prompt': \"I'm looking for my friend. He is the one standing near the car. Which one is my friend?\",\n",
       "   'prompt_type': 'pick',\n",
       "   'referents': {'A': ['motorhaube', None],\n",
       "    'B': ['wall', None],\n",
       "    'C': ['uomo2', 'relative'],\n",
       "    'D': ['uomo', 'intrinsic']},\n",
       "   'relation': 'near',\n",
       "   'rt': 6829,\n",
       "   'scene': 'mancar',\n",
       "   'time_elapsed': 31804,\n",
       "   'trial_index': 12,\n",
       "   'trial_type': 'scene-choice'})]"
      ]
     },
     "execution_count": 45,
     "metadata": {},
     "output_type": "execute_result"
    }
   ],
   "source": [
    "trials_parsed = [(i, json.loads(trial.trial_data)) for i, trial in trials.iterrows()]\n",
    "exp_trials = [(i, trial) for i, trial in trials_parsed if trial[\"trial_type\"] == \"scene-choice\"]\n",
    "exp_trials[:5]"
   ]
  },
  {
   "cell_type": "markdown",
   "metadata": {},
   "source": [
    "Unfortunately the referents are missing their frame-of-reference labels for some reason – they didn't get properly exported from Blender.\n",
    "\n",
    "I'll manually insert the correct referent frames based on the current data."
   ]
  },
  {
   "cell_type": "code",
   "execution_count": 129,
   "metadata": {},
   "outputs": [],
   "source": [
    "frame_fixes = {\n",
    "    \"manbus-01\": {\"Ruomo2\": \"functional\", \"Ruomo\": \"relative\"},\n",
    "    \"manbus-02\": {\"Ruomo2\": \"functional\", \"Ruomo\": \"intrinsic\"},\n",
    "    \"manbus-03\": {\"Ruomo2\": \"relative\", \"Ruomo\": \"intrinsic\"},\n",
    "    \"manbus-04\": {\"Ruomo2\": \"relative\", \"Ruomo\": \"functional\"},\n",
    "    \"manbus-05\": {\"Ruomo2\": \"relative\", \"Ruomo\": None},\n",
    "    \n",
    "    # TODO maybe manbus 6+ should be deleted? old camera angle\n",
    "    \"manbus-06\": {\"uomo2\": \"intrinsic\", \"uomo\": \"functional\"},\n",
    "    \"manbus-07\": {\"uomo2\": \"relative\", \"uomo\": \"functional\"},\n",
    "    \n",
    "    \"mantv-01\": {\"uomo2\": \"functional\", \"uomo\": \"relative\"},\n",
    "    \"mantv-02\": {\"uomo2\": \"intrinsic\", \"uomo\": \"relative\"},\n",
    "    \"mantv-03\": {\"uomo2\": \"intrinsic\", \"uomo\": \"functional\"},\n",
    "    \"mantv-04\": {\"uomo2\": \"intrinsic\"},\n",
    "    \"mantv-05\": {\"uomo2\": \"functional\"},\n",
    "    \"mantv-06\": {\"uomo2\": \"relative\"},\n",
    "    \"mantv-07\": {\"uomo\": \"functional\"},\n",
    "    \"mantv-08\": {\"uomo\": \"relative\"},\n",
    "    \"mantv-09\": {\"uomo\": \"intrinsic\"},\n",
    "}\n",
    "\n",
    "for i, trial in exp_trials:\n",
    "    if trial[\"frame\"] in frame_fixes:\n",
    "        for referent_data in trial[\"referents\"].values():\n",
    "            fixes = frame_fixes[trial[\"frame\"]]\n",
    "            if referent_data[0] in fixes:\n",
    "                if referent_data[1] is not None:\n",
    "                    # sanity check\n",
    "                    assert fixes[referent_data[0]] == referent_data[1]\n",
    "                referent_data[1] = fixes[referent_data[0]]"
   ]
  },
  {
   "cell_type": "markdown",
   "metadata": {},
   "source": [
    "## Sanity check: filler trials"
   ]
  },
  {
   "cell_type": "code",
   "execution_count": 130,
   "metadata": {},
   "outputs": [
    {
     "data": {
      "text/html": [
       "<div>\n",
       "<style scoped>\n",
       "    .dataframe tbody tr th:only-of-type {\n",
       "        vertical-align: middle;\n",
       "    }\n",
       "\n",
       "    .dataframe tbody tr th {\n",
       "        vertical-align: top;\n",
       "    }\n",
       "\n",
       "    .dataframe thead th {\n",
       "        text-align: right;\n",
       "    }\n",
       "</style>\n",
       "<table border=\"1\" class=\"dataframe\">\n",
       "  <thead>\n",
       "    <tr style=\"text-align: right;\">\n",
       "      <th></th>\n",
       "      <th>user_id</th>\n",
       "      <th>choice</th>\n",
       "      <th>ground_truth</th>\n",
       "      <th>correct</th>\n",
       "    </tr>\n",
       "  </thead>\n",
       "  <tbody>\n",
       "    <tr>\n",
       "      <th>0</th>\n",
       "      <td>debugK6FBJC:debugJF0CZ9</td>\n",
       "      <td>A</td>\n",
       "      <td>A</td>\n",
       "      <td>1</td>\n",
       "    </tr>\n",
       "    <tr>\n",
       "      <th>1</th>\n",
       "      <td>debugFAZXUC:debugELFLAW</td>\n",
       "      <td>A</td>\n",
       "      <td>A</td>\n",
       "      <td>1</td>\n",
       "    </tr>\n",
       "    <tr>\n",
       "      <th>2</th>\n",
       "      <td>debugFAZXUC:debugELFLAW</td>\n",
       "      <td>B</td>\n",
       "      <td>B</td>\n",
       "      <td>1</td>\n",
       "    </tr>\n",
       "    <tr>\n",
       "      <th>3</th>\n",
       "      <td>debugFAZXUC:debugELFLAW</td>\n",
       "      <td>1</td>\n",
       "      <td>1</td>\n",
       "      <td>1</td>\n",
       "    </tr>\n",
       "  </tbody>\n",
       "</table>\n",
       "</div>"
      ],
      "text/plain": [
       "                   user_id choice ground_truth  correct\n",
       "0  debugK6FBJC:debugJF0CZ9      A            A        1\n",
       "1  debugFAZXUC:debugELFLAW      A            A        1\n",
       "2  debugFAZXUC:debugELFLAW      B            B        1\n",
       "3  debugFAZXUC:debugELFLAW      1            1        1"
      ]
     },
     "execution_count": 130,
     "metadata": {},
     "output_type": "execute_result"
    }
   ],
   "source": [
    "def get_humans(trial):\n",
    "    return [(key, referent) for key, referent in trial[\"referents\"].items()\n",
    "            if referent[0].startswith((\"uomo\", \"Ruomo\"))]\n",
    "\n",
    "fillers = []\n",
    "for i, trial in exp_trials:\n",
    "    if trial[\"relation\"] == \"near\":\n",
    "        humans = get_humans(trial)\n",
    "        if trial[\"prompt_type\"] == \"count\":\n",
    "            fillers.append((trials.iloc[i].user_id, trial[\"choice\"], len(humans)))\n",
    "        elif trial[\"prompt_type\"] == \"pick\" and len(humans) == 1:\n",
    "            fillers.append((trials.iloc[i].user_id, trial[\"choice\"], humans[0][0]))\n",
    "            \n",
    "fillers = pd.DataFrame(fillers, columns=[\"user_id\", \"choice\", \"ground_truth\"])\n",
    "fillers = fillers.assign(correct=(fillers.choice == fillers.ground_truth).astype(int))\n",
    "fillers.head()"
   ]
  },
  {
   "cell_type": "markdown",
   "metadata": {},
   "source": [
    "Mean accuracy on filler elements:"
   ]
  },
  {
   "cell_type": "code",
   "execution_count": 131,
   "metadata": {},
   "outputs": [
    {
     "data": {
      "text/plain": [
       "1.0"
      ]
     },
     "execution_count": 131,
     "metadata": {},
     "output_type": "execute_result"
    }
   ],
   "source": [
    "fillers[\"correct\"].mean()"
   ]
  },
  {
   "cell_type": "markdown",
   "metadata": {},
   "source": [
    "Grouped by subject:"
   ]
  },
  {
   "cell_type": "code",
   "execution_count": 132,
   "metadata": {},
   "outputs": [
    {
     "data": {
      "text/plain": [
       "count    2.0\n",
       "mean     1.0\n",
       "std      0.0\n",
       "min      1.0\n",
       "25%      1.0\n",
       "50%      1.0\n",
       "75%      1.0\n",
       "max      1.0\n",
       "Name: correct, dtype: float64"
      ]
     },
     "execution_count": 132,
     "metadata": {},
     "output_type": "execute_result"
    }
   ],
   "source": [
    "fillers_user_perf = fillers.groupby(\"user_id\").correct.agg(\"mean\")\n",
    "fillers_user_perf.describe()"
   ]
  },
  {
   "cell_type": "code",
   "execution_count": 133,
   "metadata": {},
   "outputs": [
    {
     "data": {
      "text/plain": [
       "<matplotlib.axes._subplots.AxesSubplot at 0x7f3e85f35780>"
      ]
     },
     "execution_count": 133,
     "metadata": {},
     "output_type": "execute_result"
    },
    {
     "data": {
      "image/png": "[encoded data removed]",
      "text/plain": [
       "<matplotlib.figure.Figure at 0x7f3e85f34e10>"
      ]
     },
     "metadata": {},
     "output_type": "display_data"
    }
   ],
   "source": [
    "fillers_user_perf.plot.box()"
   ]
  },
  {
   "cell_type": "markdown",
   "metadata": {},
   "source": [
    "## Sanity check: never choose non-humans"
   ]
  },
  {
   "cell_type": "code",
   "execution_count": 146,
   "metadata": {},
   "outputs": [
    {
     "data": {
      "text/html": [
       "<div>\n",
       "<style scoped>\n",
       "    .dataframe tbody tr th:only-of-type {\n",
       "        vertical-align: middle;\n",
       "    }\n",
       "\n",
       "    .dataframe tbody tr th {\n",
       "        vertical-align: top;\n",
       "    }\n",
       "\n",
       "    .dataframe thead th {\n",
       "        text-align: right;\n",
       "    }\n",
       "</style>\n",
       "<table border=\"1\" class=\"dataframe\">\n",
       "  <thead>\n",
       "    <tr style=\"text-align: right;\">\n",
       "      <th></th>\n",
       "      <th>0</th>\n",
       "    </tr>\n",
       "  </thead>\n",
       "  <tbody>\n",
       "    <tr>\n",
       "      <th>debugK6FBJC:debugJF0CZ9</th>\n",
       "      <td>0</td>\n",
       "    </tr>\n",
       "    <tr>\n",
       "      <th>debugFAZXUC:debugELFLAW</th>\n",
       "      <td>0</td>\n",
       "    </tr>\n",
       "  </tbody>\n",
       "</table>\n",
       "</div>"
      ],
      "text/plain": [
       "                         0\n",
       "debugK6FBJC:debugJF0CZ9  0\n",
       "debugFAZXUC:debugELFLAW  0"
      ]
     },
     "execution_count": 146,
     "metadata": {},
     "output_type": "execute_result"
    }
   ],
   "source": [
    "user_non_human_choices = {}\n",
    "for i, exp_trial in exp_trials:\n",
    "    user_id = trials.iloc[i].user_id\n",
    "    u_choices = user_non_human_choices.get(user_id, 0)\n",
    "    \n",
    "    trial_humans = get_humans(trial)\n",
    "    \n",
    "    if trial[\"prompt_type\"] == \"pick\":\n",
    "        trial_choice_referent = trial[\"referents\"][trial[\"choice\"]]\n",
    "        if trial_choice_referent not in trial_humans:\n",
    "            u_choices += 1\n",
    "    elif trial[\"prompt_type\"] == \"count\":\n",
    "        if trial[\"choice\"] > len(trial_humans):\n",
    "            u_choices += 1\n",
    "            \n",
    "    user_non_human_choices[user_id] = u_choices\n",
    "        \n",
    "pd.DataFrame.from_dict(user_non_human_choices, \"index\")"
   ]
  },
  {
   "cell_type": "markdown",
   "metadata": {},
   "source": [
    "## *In front of*: Two-place oppositions\n",
    "\n",
    "The first and simplest question: when two different senses come in conflict with the prompt relation \"in front of\", which wins?"
   ]
  },
  {
   "cell_type": "code",
   "execution_count": 134,
   "metadata": {},
   "outputs": [
    {
     "data": {
      "text/plain": [
       "defaultdict(list,\n",
       "            {('functional',\n",
       "              'relative'): [(8,\n",
       "               {'choice': 1,\n",
       "                'frame': 'mancar-01',\n",
       "                'frame_path': 'mancar-01.png',\n",
       "                'internal_node_id': '0.0-8.0',\n",
       "                'labeled_frame_path': 'mancar-01.23.png',\n",
       "                'prompt': 'How many people are standing in front of the car?',\n",
       "                'prompt_type': 'count',\n",
       "                'referents': {'A': ['uomo', 'functional'],\n",
       "                 'B': ['motorhaube', None],\n",
       "                 'C': ['wall', None],\n",
       "                 'D': ['uomo2', 'relative']},\n",
       "                'relation': 'in front of',\n",
       "                'rt': 1974,\n",
       "                'scene': 'mancar',\n",
       "                'time_elapsed': 18578,\n",
       "                'trial_index': 8,\n",
       "                'trial_type': 'scene-choice'}), (27,\n",
       "               {'choice': 1,\n",
       "                'frame': 'mancar-01',\n",
       "                'frame_path': 'mancar-01.png',\n",
       "                'internal_node_id': '0.0-12.0',\n",
       "                'labeled_frame_path': 'mancar-01.15.png',\n",
       "                'prompt': 'How many people are standing in front of the car?',\n",
       "                'prompt_type': 'count',\n",
       "                'referents': {'A': ['motorhaube', None],\n",
       "                 'B': ['wall', None],\n",
       "                 'C': ['uomo', 'functional'],\n",
       "                 'D': ['uomo2', 'relative']},\n",
       "                'relation': 'in front of',\n",
       "                'rt': 2037,\n",
       "                'scene': 'mancar',\n",
       "                'time_elapsed': 23409,\n",
       "                'trial_index': 12,\n",
       "                'trial_type': 'scene-choice'})],\n",
       "             ('intrinsic',\n",
       "              'relative'): [(4,\n",
       "               {'choice': 'C',\n",
       "                'frame': 'mancar-02',\n",
       "                'frame_path': 'mancar-02.png',\n",
       "                'internal_node_id': '0.0-4.0',\n",
       "                'labeled_frame_path': 'mancar-02.08.png',\n",
       "                'prompt': \"I'm looking for my friend. He is the one standing in front of the car. Which one is my friend?\",\n",
       "                'prompt_type': 'pick',\n",
       "                'referents': {'A': ['wall', None],\n",
       "                 'B': ['motorhaube', None],\n",
       "                 'C': ['uomo2', 'intrinsic'],\n",
       "                 'D': ['uomo', 'relative']},\n",
       "                'relation': 'in front of',\n",
       "                'rt': 2568,\n",
       "                'scene': 'mancar',\n",
       "                'time_elapsed': 12420,\n",
       "                'trial_index': 4,\n",
       "                'trial_type': 'scene-choice'})]})"
      ]
     },
     "execution_count": 134,
     "metadata": {},
     "output_type": "execute_result"
    }
   ],
   "source": [
    "senses = [\"intrinsic\", \"relative\", \"functional\"]\n",
    "\n",
    "opp_scenes = defaultdict(list)\n",
    "for i, trial in exp_trials:\n",
    "    if trial[\"relation\"] != \"in front of\":\n",
    "        continue\n",
    "        \n",
    "    humans = get_humans(trial)\n",
    "    frames = [trial[\"referents\"][key][1] for key, _ in humans]\n",
    "    if None not in frames and len(set(frames)) == 2:\n",
    "        opp_key = tuple(sorted(frames))\n",
    "        opp_scenes[opp_key].append((i, trial))\n",
    "        \n",
    "opp_scenes"
   ]
  },
  {
   "cell_type": "code",
   "execution_count": 135,
   "metadata": {},
   "outputs": [
    {
     "data": {
      "text/plain": [
       "<matplotlib.axes._subplots.AxesSubplot at 0x7f3e85eb7860>"
      ]
     },
     "execution_count": 135,
     "metadata": {},
     "output_type": "execute_result"
    },
    {
     "data": {
      "image/png": "[encoded data removed]",
      "text/plain": [
       "<matplotlib.figure.Figure at 0x7f3e85eb4fd0>"
      ]
     },
     "metadata": {},
     "output_type": "display_data"
    }
   ],
   "source": [
    "# For \"pick\" scenes, which sense wins?\n",
    "opp_pick_choices = defaultdict(lambda: {0: 0, 1: 0})\n",
    "for (s1, s2), opp_trials in opp_scenes.items():\n",
    "    for i, trial in opp_trials:\n",
    "        if trial[\"prompt_type\"] == \"pick\":\n",
    "            chosen_frame = trial[\"referents\"][trial[\"choice\"]][1]\n",
    "            chosen_frame_idx = 0 if chosen_frame == s1 else 1\n",
    "            opp_pick_choices[s1, s2][chosen_frame_idx] += 1\n",
    "            \n",
    "opp_pick_choices = pd.DataFrame.from_dict(opp_pick_choices, \"index\")\n",
    "opp_pick_choices.plot.bar()"
   ]
  },
  {
   "cell_type": "markdown",
   "metadata": {},
   "source": [
    "## *In front of*: Counting\n",
    "\n",
    "Let's look at scenes where multiple humans are \"in front of\" a ground object in different senses.\n",
    "\n",
    "Do people consider all senses of \"in front of\" when counting?\n",
    "\n",
    "- If so, we should see a pattern along $x = y$ in the scatter plot.\n",
    "- If not, we should regularly see a count of 1 in the scatter plot. (There is only ever one human satisfying any single sense in a given scene.)"
   ]
  },
  {
   "cell_type": "code",
   "execution_count": 136,
   "metadata": {},
   "outputs": [
    {
     "data": {
      "text/plain": [
       "(-0.15, 2.15)"
      ]
     },
     "execution_count": 136,
     "metadata": {},
     "output_type": "execute_result"
    },
    {
     "data": {
      "image/png": "[encoded data removed]",
      "text/plain": [
       "<matplotlib.figure.Figure at 0x7f3e85eb4a90>"
      ]
     },
     "metadata": {},
     "output_type": "display_data"
    }
   ],
   "source": [
    "front_count_trials = [(i, trial) for i, trial in exp_trials\n",
    "                      if trial[\"prompt_type\"] == \"count\" and trial[\"relation\"] == \"in front of\"]\n",
    "# NB: jitter\n",
    "plt.scatter([len([human for human, sense in get_humans(trial) if sense != None]) + np.random.random() * 0.1 for i, trial in front_count_trials],\n",
    "            [trial[\"choice\"] + np.random.random() * 0.3 for i, trial in front_count_trials])\n",
    "plt.xlabel(\"Total humans\")\n",
    "plt.ylabel(\"Given count\")\n",
    "plt.title(\"Do we consider all senses when counting?\")\n",
    "plt.xlim((-0.15, 2.15))\n",
    "plt.ylim((-0.15, 2.15))"
   ]
  },
  {
   "cell_type": "markdown",
   "metadata": {},
   "source": [
    "## *Near*: what sense?\n",
    "\n",
    "What sense are people using when answering \"near\" prompts?"
   ]
  },
  {
   "cell_type": "code",
   "execution_count": 127,
   "metadata": {},
   "outputs": [
    {
     "name": "stdout",
     "output_type": "stream",
     "text": [
      "[None, None, 'relative', 'intrinsic', None, None]\n"
     ]
    },
    {
     "data": {
      "text/plain": [
       "[(6,\n",
       "  {'choice': 'A',\n",
       "   'frame': 'mantv-02',\n",
       "   'frame_path': 'mantv-02.png',\n",
       "   'internal_node_id': '0.0-6.0',\n",
       "   'labeled_frame_path': 'mantv-02.01.png',\n",
       "   'prompt': \"I'm looking for my friend. He is the one who is standing near the television. Which is my friend?\",\n",
       "   'prompt_type': 'pick',\n",
       "   'referents': {'A': ['uomo2', None],\n",
       "    'B': ['uomo', 'relative'],\n",
       "    'C': ['Hat Lamp.jpg', None]},\n",
       "   'relation': 'near',\n",
       "   'rt': 2179,\n",
       "   'scene': 'mantv',\n",
       "   'time_elapsed': 15600,\n",
       "   'trial_index': 6,\n",
       "   'trial_type': 'scene-choice'}),\n",
       " (10,\n",
       "  {'choice': 'A',\n",
       "   'frame': 'mantv-05',\n",
       "   'frame_path': 'mantv-05.png',\n",
       "   'internal_node_id': '0.0-10.0',\n",
       "   'labeled_frame_path': 'mantv-05.00.png',\n",
       "   'prompt': \"I'm looking for my friend. He is the one who is standing near the television. Which is my friend?\",\n",
       "   'prompt_type': 'pick',\n",
       "   'referents': {'A': ['uomo2', None], 'B': ['Hat Lamp.jpg', None]},\n",
       "   'relation': 'near',\n",
       "   'rt': 4391,\n",
       "   'scene': 'mantv',\n",
       "   'time_elapsed': 23972,\n",
       "   'trial_index': 10,\n",
       "   'trial_type': 'scene-choice'}),\n",
       " (12,\n",
       "  {'choice': 'C',\n",
       "   'frame': 'mancar-00',\n",
       "   'frame_path': 'mancar-00.png',\n",
       "   'internal_node_id': '0.0-12.0',\n",
       "   'labeled_frame_path': 'mancar-00.14.png',\n",
       "   'prompt': \"I'm looking for my friend. He is the one standing near the car. Which one is my friend?\",\n",
       "   'prompt_type': 'pick',\n",
       "   'referents': {'A': ['motorhaube', None],\n",
       "    'B': ['wall', None],\n",
       "    'C': ['uomo2', 'relative'],\n",
       "    'D': ['uomo', 'intrinsic']},\n",
       "   'relation': 'near',\n",
       "   'rt': 6829,\n",
       "   'scene': 'mancar',\n",
       "   'time_elapsed': 31804,\n",
       "   'trial_index': 12,\n",
       "   'trial_type': 'scene-choice'}),\n",
       " (19,\n",
       "  {'choice': 'A',\n",
       "   'frame': 'mancar-05',\n",
       "   'frame_path': 'mancar-05.png',\n",
       "   'internal_node_id': '0.0-4.0',\n",
       "   'labeled_frame_path': 'mancar-05.00.png',\n",
       "   'prompt': \"I'm looking for my friend. He is the one standing near the car. Which one is my friend?\",\n",
       "   'prompt_type': 'pick',\n",
       "   'referents': {'A': ['uomo2', 'intrinsic'],\n",
       "    'B': ['wall', None],\n",
       "    'C': ['motorhaube', None]},\n",
       "   'relation': 'near',\n",
       "   'rt': 2041,\n",
       "   'scene': 'mancar',\n",
       "   'time_elapsed': 8961,\n",
       "   'trial_index': 4,\n",
       "   'trial_type': 'scene-choice'}),\n",
       " (21,\n",
       "  {'choice': 'B',\n",
       "   'frame': 'mantv-06',\n",
       "   'frame_path': 'mantv-06.png',\n",
       "   'internal_node_id': '0.0-6.0',\n",
       "   'labeled_frame_path': 'mantv-06.01.png',\n",
       "   'prompt': \"I'm looking for my friend. He is the one who is standing near the television. Which is my friend?\",\n",
       "   'prompt_type': 'pick',\n",
       "   'referents': {'A': ['Hat Lamp.jpg', None], 'B': ['uomo2', None]},\n",
       "   'relation': 'near',\n",
       "   'rt': 3272,\n",
       "   'scene': 'mantv',\n",
       "   'time_elapsed': 13236,\n",
       "   'trial_index': 6,\n",
       "   'trial_type': 'scene-choice'}),\n",
       " (23,\n",
       "  {'choice': 'C',\n",
       "   'frame': 'manbus-04',\n",
       "   'frame_path': 'manbus-04.png',\n",
       "   'internal_node_id': '0.0-8.0',\n",
       "   'labeled_frame_path': 'manbus-04.04.png',\n",
       "   'prompt': \"I'm looking for my friend. He is the one standing near the bus. Which one is my friend?\",\n",
       "   'prompt_type': 'pick',\n",
       "   'referents': {'A': ['Cube.017', None],\n",
       "    'B': ['Ruomo2', None],\n",
       "    'C': ['Ruomo', None]},\n",
       "   'relation': 'near',\n",
       "   'rt': 3132,\n",
       "   'scene': 'manbus',\n",
       "   'time_elapsed': 17370,\n",
       "   'trial_index': 8,\n",
       "   'trial_type': 'scene-choice'})]"
      ]
     },
     "execution_count": 127,
     "metadata": {},
     "output_type": "execute_result"
    }
   ],
   "source": [
    "near_pick_trials = [(i, trial) for i, trial in exp_trials\n",
    "                    if trial[\"prompt_type\"] == \"pick\" and trial[\"relation\"] == \"near\"]\n",
    "near_pick_senses = [trial[\"referents\"][trial[\"choice\"]][1] for i, trial in near_pick_trials]\n",
    "print(near_pick_senses)\n",
    "near_pick_trials"
   ]
  },
  {
   "cell_type": "markdown",
   "metadata": {},
   "source": [
    "## TODO\n",
    "\n",
    "It looks like frame-of-reference data is missing from both `mantv` and `manbus` .. need to rebuild these JSON files, and then load that data here :/"
   ]
  }
 ],
 "metadata": {
  "kernelspec": {
   "display_name": "Python 3",
   "language": "python",
   "name": "python3"
  },
  "language_info": {
   "codemirror_mode": {
    "name": "ipython",
    "version": 3
   },
   "file_extension": ".py",
   "mimetype": "text/x-python",
   "name": "python",
   "nbconvert_exporter": "python",
   "pygments_lexer": "ipython3",
   "version": "3.6.3"
  }
 },
 "nbformat": 4,
 "nbformat_minor": 2
}
